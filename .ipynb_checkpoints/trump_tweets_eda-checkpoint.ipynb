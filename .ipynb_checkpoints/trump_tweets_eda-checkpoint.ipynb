{
 "cells": [
  {
   "cell_type": "code",
   "execution_count": 1,
   "metadata": {},
   "outputs": [],
   "source": [
    "import pandas as pd\n",
    "import numpy as np"
   ]
  },
  {
   "cell_type": "code",
   "execution_count": 24,
   "metadata": {},
   "outputs": [],
   "source": [
    "df_tweets = pd.read_csv('trump_tweets_10-29-2020.csv')\n",
    "pd.to_datetime(df_tweets['date'])\n",
    "df_tweets.sort_values('date',ascending = False, inplace = True,ignore_index = True)"
   ]
  },
  {
   "cell_type": "code",
   "execution_count": 25,
   "metadata": {},
   "outputs": [
    {
     "data": {
      "text/html": [
       "<div>\n",
       "<style scoped>\n",
       "    .dataframe tbody tr th:only-of-type {\n",
       "        vertical-align: middle;\n",
       "    }\n",
       "\n",
       "    .dataframe tbody tr th {\n",
       "        vertical-align: top;\n",
       "    }\n",
       "\n",
       "    .dataframe thead th {\n",
       "        text-align: right;\n",
       "    }\n",
       "</style>\n",
       "<table border=\"1\" class=\"dataframe\">\n",
       "  <thead>\n",
       "    <tr style=\"text-align: right;\">\n",
       "      <th></th>\n",
       "      <th>id</th>\n",
       "      <th>text</th>\n",
       "      <th>isRetweet</th>\n",
       "      <th>isDeleted</th>\n",
       "      <th>device</th>\n",
       "      <th>favorites</th>\n",
       "      <th>retweets</th>\n",
       "      <th>date</th>\n",
       "    </tr>\n",
       "  </thead>\n",
       "  <tbody>\n",
       "    <tr>\n",
       "      <th>0</th>\n",
       "      <td>1320096006038380544</td>\n",
       "      <td>Just landed in Ohio. See you in a little while!</td>\n",
       "      <td>f</td>\n",
       "      <td>f</td>\n",
       "      <td>Twitter for iPhone</td>\n",
       "      <td>37662</td>\n",
       "      <td>4948</td>\n",
       "      <td>2020-10-24 20:13:08</td>\n",
       "    </tr>\n",
       "    <tr>\n",
       "      <th>1</th>\n",
       "      <td>1320095628546899968</td>\n",
       "      <td>Nobody is showing up for Obama’s hate laced sp...</td>\n",
       "      <td>f</td>\n",
       "      <td>f</td>\n",
       "      <td>Twitter for iPhone</td>\n",
       "      <td>57061</td>\n",
       "      <td>10961</td>\n",
       "      <td>2020-10-24 20:11:38</td>\n",
       "    </tr>\n",
       "    <tr>\n",
       "      <th>2</th>\n",
       "      <td>1320076630065373184</td>\n",
       "      <td>AMERICA FIRST!</td>\n",
       "      <td>f</td>\n",
       "      <td>f</td>\n",
       "      <td>Twitter for iPhone</td>\n",
       "      <td>89661</td>\n",
       "      <td>14937</td>\n",
       "      <td>2020-10-24 18:56:09</td>\n",
       "    </tr>\n",
       "    <tr>\n",
       "      <th>3</th>\n",
       "      <td>1320076502839459842</td>\n",
       "      <td>MAKE AMERICA GREAT AGAIN!</td>\n",
       "      <td>f</td>\n",
       "      <td>f</td>\n",
       "      <td>Twitter for iPhone</td>\n",
       "      <td>152417</td>\n",
       "      <td>24873</td>\n",
       "      <td>2020-10-24 18:55:38</td>\n",
       "    </tr>\n",
       "    <tr>\n",
       "      <th>4</th>\n",
       "      <td>1320076289034850306</td>\n",
       "      <td>Joe Biden = Biggest Tax Increase In History an...</td>\n",
       "      <td>f</td>\n",
       "      <td>f</td>\n",
       "      <td>Twitter for iPhone</td>\n",
       "      <td>57012</td>\n",
       "      <td>11744</td>\n",
       "      <td>2020-10-24 18:54:47</td>\n",
       "    </tr>\n",
       "  </tbody>\n",
       "</table>\n",
       "</div>"
      ],
      "text/plain": [
       "                    id                                               text  \\\n",
       "0  1320096006038380544    Just landed in Ohio. See you in a little while!   \n",
       "1  1320095628546899968  Nobody is showing up for Obama’s hate laced sp...   \n",
       "2  1320076630065373184                                     AMERICA FIRST!   \n",
       "3  1320076502839459842                          MAKE AMERICA GREAT AGAIN!   \n",
       "4  1320076289034850306  Joe Biden = Biggest Tax Increase In History an...   \n",
       "\n",
       "  isRetweet isDeleted              device  favorites  retweets  \\\n",
       "0         f         f  Twitter for iPhone      37662      4948   \n",
       "1         f         f  Twitter for iPhone      57061     10961   \n",
       "2         f         f  Twitter for iPhone      89661     14937   \n",
       "3         f         f  Twitter for iPhone     152417     24873   \n",
       "4         f         f  Twitter for iPhone      57012     11744   \n",
       "\n",
       "                  date  \n",
       "0  2020-10-24 20:13:08  \n",
       "1  2020-10-24 20:11:38  \n",
       "2  2020-10-24 18:56:09  \n",
       "3  2020-10-24 18:55:38  \n",
       "4  2020-10-24 18:54:47  "
      ]
     },
     "execution_count": 25,
     "metadata": {},
     "output_type": "execute_result"
    }
   ],
   "source": [
    "df_tweets.head()"
   ]
  },
  {
   "cell_type": "code",
   "execution_count": 26,
   "metadata": {},
   "outputs": [
    {
     "data": {
      "text/plain": [
       "54442"
      ]
     },
     "execution_count": 26,
     "metadata": {},
     "output_type": "execute_result"
    }
   ],
   "source": [
    "len(df_tweets)"
   ]
  },
  {
   "cell_type": "code",
   "execution_count": null,
   "metadata": {},
   "outputs": [],
   "source": []
  }
 ],
 "metadata": {
  "kernelspec": {
   "display_name": "Python 3",
   "language": "python",
   "name": "python3"
  },
  "language_info": {
   "codemirror_mode": {
    "name": "ipython",
    "version": 3
   },
   "file_extension": ".py",
   "mimetype": "text/x-python",
   "name": "python",
   "nbconvert_exporter": "python",
   "pygments_lexer": "ipython3",
   "version": "3.7.7"
  }
 },
 "nbformat": 4,
 "nbformat_minor": 4
}
